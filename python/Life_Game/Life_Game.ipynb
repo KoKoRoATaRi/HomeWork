{
 "cells": [
  {
   "cell_type": "code",
   "execution_count": 7,
   "metadata": {
    "collapsed": true
   },
   "outputs": [],
   "source": [
    "import numpy as np\n",
    "import matplotlib.pyplot as plt\n",
    "import matplotlib.animation as animation\n",
    "%matplotlib inline"
   ]
  },
  {
   "cell_type": "code",
   "execution_count": 173,
   "metadata": {
    "collapsed": true
   },
   "outputs": [],
   "source": [
    "def initcell(w,prob = 0.7):\n",
    "    data = np.zeros((w,w),dtype=int)\n",
    "    init = np.array(np.random.rand(w,w)<prob,dtype=int)\n",
    "    data = data + init\n",
    "    return data "
   ]
  },
  {
   "cell_type": "code",
   "execution_count": 174,
   "metadata": {},
   "outputs": [],
   "source": [
    "def LinSum(data):\n",
    "    n = data.shape[0]\n",
    "    DR = list(range(0,n-1))\n",
    "    DR.insert(0,n-1)\n",
    "    UL = list(range(1,n))\n",
    "    UL.insert(n,0)\n",
    "    num=1*(data[UL,:]==1)+(data[:,UL]==1)+(data[:,DR]==1)+(data[DR,:]==1)+(data[UL,:][:,UL]==1)+(data[DR,:][:,UL]==1)+(data[UL,:][:,DR]==1)+(data[DR,:][:,DR]==1)\n",
    "    return num"
   ]
  },
  {
   "cell_type": "code",
   "execution_count": 175,
   "metadata": {
    "collapsed": true
   },
   "outputs": [],
   "source": [
    "def cellfun(data):\n",
    "    birth = (LinSum(data) == 3) & (data == 0)\n",
    "    survive = ((LinSum(data) == 2) | ( LinSum(data)== 3)) & (data == 1)\n",
    "    data *=0\n",
    "    data[birth | survive] = 1\n",
    "    return data"
   ]
  },
  {
   "cell_type": "code",
   "execution_count": 176,
   "metadata": {
    "collapsed": true
   },
   "outputs": [],
   "source": [
    "data = initcell(10)"
   ]
  },
  {
   "cell_type": "code",
   "execution_count": 19,
   "metadata": {},
   "outputs": [
    {
     "data": {
      "image/png": "[encoded data removed]",
      "text/plain": [
       "<matplotlib.figure.Figure at 0x21a4659d4e0>"
      ]
     },
     "metadata": {},
     "output_type": "display_data"
    }
   ],
   "source": [
    "fig = plt.figure()\n",
    "im = plt.imshow(data, animated=True)\n",
    "def updatefig(*args):\n",
    "    cellfun(data)\n",
    "    im.set_array(data)\n",
    "    return im,\n",
    "\n",
    "ani = animation.FuncAnimation(fig, updatefig, interval=50, blit=True)\n",
    "plt.show()"
   ]
  }
 ],
 "metadata": {
  "kernelspec": {
   "display_name": "Python 3",
   "language": "python",
   "name": "python3"
  },
  "language_info": {
   "codemirror_mode": {
    "name": "ipython",
    "version": 3
   },
   "file_extension": ".py",
   "mimetype": "text/x-python",
   "name": "python",
   "nbconvert_exporter": "python",
   "pygments_lexer": "ipython3",
   "version": "3.6.3"
  }
 },
 "nbformat": 4,
 "nbformat_minor": 2
}
